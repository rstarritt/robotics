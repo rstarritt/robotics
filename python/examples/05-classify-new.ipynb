{
 "cells": [
  {
   "cell_type": "markdown",
   "metadata": {},
   "source": [
    "## Project 5 : Classification"
   ]
  },
  {
   "cell_type": "markdown",
   "metadata": {},
   "source": [
    "## Instructions\n",
    "\n",
    "### Description\n",
    "\n",
    "Practice classification on the Titanic dataset.\n",
    "\n",
    "### Grading\n",
    "\n",
    "For grading purposes, we will clear all outputs from all your cells and then run them all from the top.  Please test your notebook in the same fashion before turning it in.\n",
    "\n",
    "### Submitting Your Solution\n",
    "\n",
    "To submit your notebook, first clear all the cells (this won't matter too much this time, but for larger data sets in the future, it will make the file smaller).  Then use the File->Download As->Notebook to obtain the notebook file.  Finally, submit the notebook file on Canvas.\n"
   ]
  },
  {
   "cell_type": "code",
   "execution_count": 1,
   "metadata": {},
   "outputs": [],
   "source": [
    "import pandas as pd\n",
    "import numpy as np\n",
    "import sklearn as sk\n",
    "import matplotlib.pyplot as plt\n",
    "import seaborn as sns\n",
    "\n",
    "plt.style.use('ggplot')\n",
    "\n",
    "%matplotlib inline\n",
    "%config InlineBackend.figure_format = 'retina'"
   ]
  },
  {
   "cell_type": "markdown",
   "metadata": {
    "collapsed": true
   },
   "source": [
    "### Introduction\n",
    "\n",
    "On April 15, 1912, the largest passenger liner ever made collided with an iceberg during her maiden voyage. When the Titanic sank it killed 1502 out of 2224 passengers and crew. This sensational tragedy shocked the international community and led to better safety regulations for ships. One of the reasons that the shipwreck resulted in such loss of life was that there were not enough lifeboats for the passengers and crew. Although there was some element of luck involved in surviving the sinking, some groups of people were more likely to survive than others.\n",
    "\n",
    "Intro Videos: \n",
    "https://www.youtube.com/watch?v=3lyiZMeTKIo\n",
    "and\n",
    "https://www.youtube.com/watch?v=ItjXTieWKyI \n",
    "\n",
    "The `titanic_data.csv` file contains data for `887` of the real Titanic passengers. Each row represents one person. The columns describe different attributes about the person including whether they survived (`0=No`), their age, their passenger-class (`1=1st Class, Upper`), gender, and the fare they paid (£s*). For more on the currency: http://www.statisticalconsultants.co.nz/blog/titanic-fare-data.html\n",
    "\n",
    "We are going to try to see if there are correlations between the feature data provided (find a best subset of features) and passenger survival."
   ]
  },
  {
   "cell_type": "markdown",
   "metadata": {},
   "source": [
    "### Problem 1: Load and understand the data (35 points)\n",
    "\n",
    "#### Your task (some of this is the work you completed for L14 - be sure to copy that work into here as needed)\n",
    "Conduct some preprocessing steps to explore the following and provide code/answers in the below cells:\n",
    "1. Load the `titanic_data.csv` file into a pandas dataframe\n",
    "2. Explore the data provided (e.g., looking at statistics using describe(), value_counts(), histograms, scatter plots of various features, etc.) \n",
    "3. What are the names of feature columns that appear to be usable for learning?\n",
    "4. What is the name of the column that appears to represent our target?\n",
    "5. Formulate a hypothesis about the relationship between given feature data and the target\n",
    "6. How did Pclass affect passenngers' chances of survival?\n",
    "7. What is the age distribution of survivors?"
   ]
  },
  {
   "cell_type": "code",
   "execution_count": 2,
   "metadata": {},
   "outputs": [],
   "source": [
    "# Step 1. Load the `titanic_data.csv` file into a pandas dataframe\n",
    "boat = pd.read_csv(\"titanic_data.csv\")"
   ]
  },
  {
   "cell_type": "code",
   "execution_count": 3,
   "metadata": {},
   "outputs": [
    {
     "name": "stdout",
     "output_type": "stream",
     "text": [
      "Headers: ['Survived', 'Pclass', 'Name', 'Sex', 'Age', 'Siblings/Spouses Aboard', 'Parents/Children Aboard', 'Fare']\n",
      "\n",
      "Total Number of Survivors: 342\n",
      "Survival Rate: 0.45178335535006603\n",
      "\n",
      "Number of Children: 130\n",
      "Surviving Children: 65\n",
      "Survival Rate: 50.0%\n",
      "\n",
      "Number of adults: 757\n",
      "Surviving Adults: 277\n",
      "Survival Rate: 36.591809775429326%\n",
      "\n",
      "Survived Col:\n",
      "0\n",
      "1\n",
      "1\n",
      "1\n",
      "0\n",
      "0\n",
      "0\n",
      "0\n",
      "1\n",
      "1\n"
     ]
    }
   ],
   "source": [
    "# Step 2. Explore the data provided (e.g., looking at statistics using describe(), value_counts(), histograms, scatter plots of various features, etc.) \n",
    "print(\"Headers: \" + str(list(boat)))\n",
    "print(\"\\nTotal Number of Survivors: \" + str(boat[\"Survived\"].value_counts()[1]))\n",
    "print(\"Survival Rate: \" + str(342 / 757))\n",
    "\n",
    "children = boat[boat[\"Age\"] < 18]\n",
    "\n",
    "print(\"\\nNumber of Children: \" + str(len(children[\"Age\"])))\n",
    "print(\"Surviving Children: \" + str(children[\"Survived\"].value_counts()[1]))\n",
    "print(\"Survival Rate: \" + str(65 / 130 * 100) + \"%\")\n",
    "\n",
    "print(\"\\nNumber of adults: \" + str(887 - len(children[\"Age\"])))\n",
    "print(\"Surviving Adults: \" + str(boat[\"Survived\"].value_counts()[1] - children[\"Survived\"].value_counts()[1]))\n",
    "print(\"Survival Rate: \" + str(277 / 757 * 100) + \"%\")\n",
    "\n",
    "boat.describe()\n",
    "\n",
    "print('\\nSurvived Col:')\n",
    "for i in range(10):\n",
    "    print(boat['Survived'][i])"
   ]
  },
  {
   "cell_type": "markdown",
   "metadata": {},
   "source": [
    "---\n",
    "\n",
    "**Edit this cell to provide answers to the following steps:**\n",
    "\n",
    "---\n",
    "\n",
    "Step 3. What are the names of feature columns that appear to be usable for learning?\n",
    "\n",
    "Age, Pclass, Survived, Sex, Age, Parents/Children Aboard\n",
    "\n",
    "Step 4. What is the name of the column that appears to represent our target?\n",
    "\n",
    "Survived (Binary true false classifications)\n",
    "\n",
    "Step 5. Formulate a hypothesis about the relationship between given feature data and the target\n",
    "\n",
    "General survival rate will be higher in children"
   ]
  },
  {
   "cell_type": "code",
   "execution_count": 4,
   "metadata": {},
   "outputs": [
    {
     "name": "stdout",
     "output_type": "stream",
     "text": [
      "Class 1 had a survival rate of: 0.24351747463359638\n",
      "Class 2 had a survival rate of: 0.20744081172491544\n",
      "Class 3 had a survival rate of: 0.5490417136414881\n"
     ]
    }
   ],
   "source": [
    "#Step 6. How did Pclass affect passenngers' chances of survival?\n",
    "#Show your work with a bar plot, dataframe selection, or visual of your choice.\n",
    "classSums = [0,0,0,0]\n",
    "for x in range(len(boat)):\n",
    "    classSums[boat['Pclass'][x]] += 1\n",
    "    \n",
    "for x in range(1,len(classSums)):\n",
    "    print(f\"Class {x} had a survival rate of: {classSums[x] / 887}\")"
   ]
  },
  {
   "cell_type": "code",
   "execution_count": 5,
   "metadata": {},
   "outputs": [
    {
     "data": {
      "image/png": "[encoded data removed]",
      "text/plain": [
       "<Figure size 432x288 with 1 Axes>"
      ]
     },
     "metadata": {
      "image/png": {
       "height": 281,
       "width": 370
      }
     },
     "output_type": "display_data"
    },
    {
     "data": {
      "image/png": "[encoded data removed]",
      "text/plain": [
       "<Figure size 432x288 with 1 Axes>"
      ]
     },
     "metadata": {
      "image/png": {
       "height": 281,
       "width": 377
      }
     },
     "output_type": "display_data"
    }
   ],
   "source": [
    "#Step 7. What is the age distribution of survivors?\n",
    "#Show your work with a dataframe operation and/or histogram plot.\n",
    "ages = []\n",
    "for x in range(len(boat)):\n",
    "    if boat['Survived'][x]:\n",
    "        ages.extend([boat['Age'][x]])\n",
    "plt.title('Surviver Age Distrobution')\n",
    "plt.xlabel(\"Age\")\n",
    "plt.hist(ages)\n",
    "plt.show()\n",
    "\n",
    "plt.title('Overall Age Distrobution')\n",
    "plt.xlabel(\"Age\")\n",
    "plt.hist(boat['Age'])\n",
    "plt.show()"
   ]
  },
  {
   "cell_type": "markdown",
   "metadata": {},
   "source": [
    "### Problem 2: transform the data (10 points)\n",
    "The `Sex` column is categorical, meaning its data are separable into groups, but not numerical. To be able to work with this data, we need numbers, so you task is to transform the `Sex` column into numerical data with pandas' `get_dummies` feature and remove the original categorical `Sex` column."
   ]
  },
  {
   "cell_type": "code",
   "execution_count": 6,
   "metadata": {},
   "outputs": [],
   "source": [
    "boat['Sex']= pd.get_dummies(boat['Sex'])"
   ]
  },
  {
   "cell_type": "markdown",
   "metadata": {},
   "source": [
    "### Problem 3: Classification (30 points)\n",
    "Now that the data is transformed, we want to run various classification experiments on it. The first is `K Nearest Neighbors`, which you will conduct by:\n",
    "\n",
    "1. Define input and target data by creating lists of dataframe columns (e.g., inputs = ['Pclass', etc.)\n",
    "2. Split the data into training and testing sets with `train_test_split()`\n",
    "3. Create a `KNeighborsClassifier` using `5` neighbors at first (you can experiment with this parameter)\n",
    "4. Train your model by passing the training dataset to `fit()`\n",
    "5. Calculate predicted target values(y_hat) by passing the testing dataset to `predict()`\n",
    "6. Print the accuracy of the model with `score()`\n",
    "\n",
    "** Note: If you get a python warning as you use the Y, trainY, or testY vector in some of the function calls about \"DataConversionWarning: A column-vector y was passed when a 1d array was expected. Please change the shape of y to (n_samples, )\", you can look up how to use trainY.values.ravel() or trainY.values.flatten() or another function, etc."
   ]
  },
  {
   "cell_type": "code",
   "execution_count": 7,
   "metadata": {},
   "outputs": [],
   "source": [
    "#inputs = Pclass, Age, Sex, Fare\n",
    "#inputs = pd.concat([boat[\"Pclass\"], boat[\"Age\"],boat[\"Pclass\"], boat[\"Fare\"]],  axis=1)\n",
    "#target = Surviaval\n",
    "#target = boat[\"Survived\"]\n",
    "#inputs.describe()"
   ]
  },
  {
   "cell_type": "code",
   "execution_count": 8,
   "metadata": {},
   "outputs": [
    {
     "data": {
      "text/html": [
       "<div>\n",
       "<style scoped>\n",
       "    .dataframe tbody tr th:only-of-type {\n",
       "        vertical-align: middle;\n",
       "    }\n",
       "\n",
       "    .dataframe tbody tr th {\n",
       "        vertical-align: top;\n",
       "    }\n",
       "\n",
       "    .dataframe thead th {\n",
       "        text-align: right;\n",
       "    }\n",
       "</style>\n",
       "<table border=\"1\" class=\"dataframe\">\n",
       "  <thead>\n",
       "    <tr style=\"text-align: right;\">\n",
       "      <th></th>\n",
       "      <th>Survived</th>\n",
       "      <th>Pclass</th>\n",
       "      <th>Sex</th>\n",
       "      <th>Age</th>\n",
       "      <th>Siblings/Spouses Aboard</th>\n",
       "      <th>Parents/Children Aboard</th>\n",
       "      <th>Fare</th>\n",
       "    </tr>\n",
       "  </thead>\n",
       "  <tbody>\n",
       "    <tr>\n",
       "      <th>count</th>\n",
       "      <td>665.000000</td>\n",
       "      <td>665.000000</td>\n",
       "      <td>665.000000</td>\n",
       "      <td>665.000000</td>\n",
       "      <td>665.000000</td>\n",
       "      <td>665.000000</td>\n",
       "      <td>665.000000</td>\n",
       "    </tr>\n",
       "    <tr>\n",
       "      <th>mean</th>\n",
       "      <td>0.377444</td>\n",
       "      <td>2.329323</td>\n",
       "      <td>0.333835</td>\n",
       "      <td>29.120677</td>\n",
       "      <td>0.506767</td>\n",
       "      <td>0.383459</td>\n",
       "      <td>31.820313</td>\n",
       "    </tr>\n",
       "    <tr>\n",
       "      <th>std</th>\n",
       "      <td>0.485112</td>\n",
       "      <td>0.824035</td>\n",
       "      <td>0.471936</td>\n",
       "      <td>14.038290</td>\n",
       "      <td>1.099164</td>\n",
       "      <td>0.837036</td>\n",
       "      <td>51.797245</td>\n",
       "    </tr>\n",
       "    <tr>\n",
       "      <th>min</th>\n",
       "      <td>0.000000</td>\n",
       "      <td>1.000000</td>\n",
       "      <td>0.000000</td>\n",
       "      <td>0.670000</td>\n",
       "      <td>0.000000</td>\n",
       "      <td>0.000000</td>\n",
       "      <td>0.000000</td>\n",
       "    </tr>\n",
       "    <tr>\n",
       "      <th>25%</th>\n",
       "      <td>0.000000</td>\n",
       "      <td>2.000000</td>\n",
       "      <td>0.000000</td>\n",
       "      <td>20.000000</td>\n",
       "      <td>0.000000</td>\n",
       "      <td>0.000000</td>\n",
       "      <td>7.895800</td>\n",
       "    </tr>\n",
       "    <tr>\n",
       "      <th>50%</th>\n",
       "      <td>0.000000</td>\n",
       "      <td>3.000000</td>\n",
       "      <td>0.000000</td>\n",
       "      <td>28.000000</td>\n",
       "      <td>0.000000</td>\n",
       "      <td>0.000000</td>\n",
       "      <td>13.791700</td>\n",
       "    </tr>\n",
       "    <tr>\n",
       "      <th>75%</th>\n",
       "      <td>1.000000</td>\n",
       "      <td>3.000000</td>\n",
       "      <td>1.000000</td>\n",
       "      <td>37.000000</td>\n",
       "      <td>1.000000</td>\n",
       "      <td>0.000000</td>\n",
       "      <td>30.500000</td>\n",
       "    </tr>\n",
       "    <tr>\n",
       "      <th>max</th>\n",
       "      <td>1.000000</td>\n",
       "      <td>3.000000</td>\n",
       "      <td>1.000000</td>\n",
       "      <td>80.000000</td>\n",
       "      <td>8.000000</td>\n",
       "      <td>6.000000</td>\n",
       "      <td>512.329200</td>\n",
       "    </tr>\n",
       "  </tbody>\n",
       "</table>\n",
       "</div>"
      ],
      "text/plain": [
       "         Survived      Pclass         Sex         Age  \\\n",
       "count  665.000000  665.000000  665.000000  665.000000   \n",
       "mean     0.377444    2.329323    0.333835   29.120677   \n",
       "std      0.485112    0.824035    0.471936   14.038290   \n",
       "min      0.000000    1.000000    0.000000    0.670000   \n",
       "25%      0.000000    2.000000    0.000000   20.000000   \n",
       "50%      0.000000    3.000000    0.000000   28.000000   \n",
       "75%      1.000000    3.000000    1.000000   37.000000   \n",
       "max      1.000000    3.000000    1.000000   80.000000   \n",
       "\n",
       "       Siblings/Spouses Aboard  Parents/Children Aboard        Fare  \n",
       "count               665.000000               665.000000  665.000000  \n",
       "mean                  0.506767                 0.383459   31.820313  \n",
       "std                   1.099164                 0.837036   51.797245  \n",
       "min                   0.000000                 0.000000    0.000000  \n",
       "25%                   0.000000                 0.000000    7.895800  \n",
       "50%                   0.000000                 0.000000   13.791700  \n",
       "75%                   1.000000                 0.000000   30.500000  \n",
       "max                   8.000000                 6.000000  512.329200  "
      ]
     },
     "execution_count": 8,
     "metadata": {},
     "output_type": "execute_result"
    }
   ],
   "source": [
    "from sklearn.model_selection import train_test_split\n",
    "train , test =train_test_split(boat)\n",
    "train.describe()"
   ]
  },
  {
   "cell_type": "code",
   "execution_count": 9,
   "metadata": {},
   "outputs": [
    {
     "data": {
      "text/plain": [
       "0.6801801801801802"
      ]
     },
     "execution_count": 9,
     "metadata": {},
     "output_type": "execute_result"
    }
   ],
   "source": [
    "from sklearn.neighbors import KNeighborsClassifier\n",
    "k = 5\n",
    "\n",
    "model = KNeighborsClassifier(k)\n",
    "model.fit(train[[\"Pclass\", \"Age\", \"Pclass\", \"Fare\"]], train[\"Survived\"])\n",
    "\n",
    "yhat = model.predict(train[[\"Pclass\", \"Age\", \"Pclass\", \"Fare\"]])\n",
    "model.score(test[[\"Pclass\", \"Age\", \"Pclass\", \"Fare\"]], test['Survived'])"
   ]
  },
  {
   "cell_type": "markdown",
   "metadata": {},
   "source": [
    "### Problem 4: Cross validation, classification report (15 points)\n",
    "- Using the concepts from the 17-model_selection slides and the [`cross_val_score`](http://scikit-learn.org/stable/modules/generated/sklearn.model_selection.cross_val_score.html) function from scikit-learn, estimate the f-score ([`f1-score`](http://scikit-learn.org/stable/modules/generated/sklearn.metrics.f1_score.html#sklearn.metrics.f1_score) (you can use however many folds you wish). To get `cross_val_score` to use `f1-score` rather than the default accuracy measure, you will need to set the `scoring` parameter and use a scorer object created via [`make_scorer`](http://scikit-learn.org/stable/modules/generated/sklearn.metrics.make_scorer.html#sklearn.metrics.make_scorer).  Since this has a few parts to it, let me just give you that parameter: ```scorerVar = make_scorer(f1_score, pos_label=1)```\n",
    "\n",
    "- Using the concepts from the end of the 14-classification slides, output a confusion matrix.\n",
    "\n",
    "- Also, output a classification report [`classification_report`](http://scikit-learn.org/stable/modules/generated/sklearn.metrics.classification_report.html) from sklearn.metrics showing more of the metrics: precision, recall, f1-score for both of our classes."
   ]
  },
  {
   "cell_type": "code",
   "execution_count": 11,
   "metadata": {
    "scrolled": false
   },
   "outputs": [
    {
     "ename": "NameError",
     "evalue": "name 'cross_val_score' is not defined",
     "output_type": "error",
     "traceback": [
      "\u001b[0;31m---------------------------------------------------------------------------\u001b[0m",
      "\u001b[0;31mNameError\u001b[0m                                 Traceback (most recent call last)",
      "\u001b[0;32m<ipython-input-11-350477d0b427>\u001b[0m in \u001b[0;36m<module>\u001b[0;34m()\u001b[0m\n\u001b[1;32m      5\u001b[0m \u001b[0mscorerVar\u001b[0m \u001b[0;34m=\u001b[0m \u001b[0mmake_scorer\u001b[0m\u001b[0;34m(\u001b[0m\u001b[0mf1_score\u001b[0m\u001b[0;34m,\u001b[0m \u001b[0mpos_label\u001b[0m\u001b[0;34m=\u001b[0m\u001b[0;36m1\u001b[0m\u001b[0;34m)\u001b[0m\u001b[0;34m\u001b[0m\u001b[0;34m\u001b[0m\u001b[0m\n\u001b[1;32m      6\u001b[0m \u001b[0;34m\u001b[0m\u001b[0m\n\u001b[0;32m----> 7\u001b[0;31m \u001b[0mscores\u001b[0m \u001b[0;34m=\u001b[0m \u001b[0mcross_val_score\u001b[0m\u001b[0;34m(\u001b[0m\u001b[0mmodel\u001b[0m\u001b[0;34m,\u001b[0m \u001b[0mboat\u001b[0m\u001b[0;34m[\u001b[0m\u001b[0;34m[\u001b[0m\u001b[0;34m\"Pclass\"\u001b[0m\u001b[0;34m,\u001b[0m \u001b[0;34m\"Age\"\u001b[0m\u001b[0;34m,\u001b[0m \u001b[0;34m\"Pclass\"\u001b[0m\u001b[0;34m,\u001b[0m \u001b[0;34m\"Fare\"\u001b[0m\u001b[0;34m]\u001b[0m\u001b[0;34m]\u001b[0m\u001b[0;34m,\u001b[0m \u001b[0mboat\u001b[0m\u001b[0;34m[\u001b[0m\u001b[0;34m\"Survived\"\u001b[0m\u001b[0;34m]\u001b[0m\u001b[0;34m,\u001b[0m\u001b[0mcv\u001b[0m \u001b[0;34m=\u001b[0m \u001b[0;36m5\u001b[0m\u001b[0;34m,\u001b[0m \u001b[0mscoring\u001b[0m \u001b[0;34m=\u001b[0m \u001b[0mscorerVar\u001b[0m\u001b[0;34m)\u001b[0m\u001b[0;34m\u001b[0m\u001b[0;34m\u001b[0m\u001b[0m\n\u001b[0m\u001b[1;32m      8\u001b[0m \u001b[0mprint\u001b[0m\u001b[0;34m(\u001b[0m\u001b[0mscores\u001b[0m\u001b[0;34m.\u001b[0m\u001b[0mmean\u001b[0m\u001b[0;34m(\u001b[0m\u001b[0;34m)\u001b[0m\u001b[0;34m)\u001b[0m\u001b[0;34m\u001b[0m\u001b[0;34m\u001b[0m\u001b[0m\n\u001b[1;32m      9\u001b[0m \u001b[0;34m\u001b[0m\u001b[0m\n",
      "\u001b[0;31mNameError\u001b[0m: name 'cross_val_score' is not defined"
     ]
    }
   ],
   "source": [
    "from sklearn import metrics\n",
    "from sklearn.metrics import confusion_matrix, f1_score, classification_report, make_scorer\n",
    "from sklearn import model_selection\n",
    "\n",
    "scorerVar = make_scorer(f1_score, pos_label=1)\n",
    "\n",
    "scores = cross_val_score(model, boat[[\"Pclass\", \"Age\", \"Pclass\", \"Fare\"]], boat[\"Survived\"],cv = 5, scoring = scorerVar)\n",
    "print(scores.mean())\n",
    "\n",
    "print(confusion_matrix(test['Survived'], model.predict(test[[\"Pclass\", \"Age\", \"Pclass\", \"Fare\"]])))\n",
    "\n",
    "print(classification_report(test['Survived'], model.predict(test[[\"Pclass\", \"Age\", \"Pclass\", \"Fare\"]])))"
   ]
  },
  {
   "cell_type": "markdown",
   "metadata": {},
   "source": [
    "### Problem 5: Logistic Regression (15 points)\n",
    "\n",
    "Now, repeat the above experiment using the [`LogisticRegression`](http://scikit-learn.org/stable/modules/generated/sklearn.linear_model.LogisticRegression.html) model in scikit-learn, and output:\n",
    "\n",
    "- The fit accuracy (using the `score` method of the model)\n",
    "- The f-score (using the [`cross_val_score`](http://scikit-learn.org/stable/modules/generated/sklearn.model_selection.cross_val_score.html) function)\n",
    "- The confusion matrix\n",
    "- The precision, recall, and f-measure for the 1 class (you can just print the results of the [`classification_report`](http://scikit-learn.org/stable/modules/generated/sklearn.metrics.classification_report.html) function from sklearn.metrics)"
   ]
  },
  {
   "cell_type": "code",
   "execution_count": null,
   "metadata": {},
   "outputs": [],
   "source": [
    "from sklearn.linear_model import LogisticRegression\n",
    "#create a model object\n",
    "model = LogisticRegression()\n",
    "\n",
    "\n",
    "#train our model\n",
    "model.fit(train[[\"Pclass\", \"Age\", \"Pclass\", \"Fare\"]], train[\"Survived\"])\n",
    "\n",
    "#evaluate the model \n",
    "yhat = model.predict(train[[\"Pclass\", \"Age\", \"Pclass\", \"Fare\"]])\n",
    "score = model.score(test[[\"Pclass\", \"Age\", \"Pclass\", \"Fare\"]], test['Survived'])\n",
    "print(f\"model score: {score}\")\n",
    "\n",
    "#setup to get f-score and cv\n",
    "scorerVar = make_scorer(f1_score, pos_label=1)\n",
    "scores = cross_val_score(model, boat[[\"Pclass\", \"Age\", \"Pclass\", \"Fare\"]], boat[\"Survived\"],cv = 5, scoring = scorerVar)\n",
    "print(f\"Cross Validation f1_score: {scores.mean()}\")\n",
    "\n",
    "#confusion matrix\n",
    "print(\"Confusion Matrix\")\n",
    "print(confusion_matrix(test['Survived'], model.predict(test[[\"Pclass\", \"Age\", \"Pclass\", \"Fare\"]])))\n",
    "\n",
    "#classification report\n",
    "print(\"\\nClassification Report\")\n",
    "print(classification_report(test['Survived'], model.predict(test[[\"Pclass\", \"Age\", \"Pclass\", \"Fare\"]])))"
   ]
  },
  {
   "cell_type": "markdown",
   "metadata": {},
   "source": [
    "### Problem 6: Support Vector Machines (15 points)\n",
    "Now, repeat the above experiment using the using a Support Vector classifier [`SVC`](http://scikit-learn.org/stable/modules/generated/sklearn.svm.SVC.html) with default parameters (RBF kernel) model in scikit-learn, and output:\n",
    "\n",
    "- The fit accuracy (using the `score` method of the model)\n",
    "- The f-score (using the [`cross_val_score`](http://scikit-learn.org/stable/modules/generated/sklearn.model_selection.cross_val_score.html) function)\n",
    "- The confusion matrix\n",
    "- The precision, recall, and f-measure for the 1 class (you can just print the results of the [`classification_report`](http://scikit-learn.org/stable/modules/generated/sklearn.metrics.classification_report.html) function from sklearn.metrics)"
   ]
  },
  {
   "cell_type": "code",
   "execution_count": 12,
   "metadata": {},
   "outputs": [
    {
     "name": "stderr",
     "output_type": "stream",
     "text": [
      "/home/warfield/.local/lib/python3.7/site-packages/sklearn/svm/base.py:196: FutureWarning: The default value of gamma will change from 'auto' to 'scale' in version 0.22 to account better for unscaled features. Set gamma explicitly to 'auto' or 'scale' to avoid this warning.\n",
      "  \"avoid this warning.\", FutureWarning)\n",
      "/home/warfield/.local/lib/python3.7/site-packages/sklearn/svm/base.py:196: FutureWarning: The default value of gamma will change from 'auto' to 'scale' in version 0.22 to account better for unscaled features. Set gamma explicitly to 'auto' or 'scale' to avoid this warning.\n",
      "  \"avoid this warning.\", FutureWarning)\n",
      "/home/warfield/.local/lib/python3.7/site-packages/sklearn/svm/base.py:196: FutureWarning: The default value of gamma will change from 'auto' to 'scale' in version 0.22 to account better for unscaled features. Set gamma explicitly to 'auto' or 'scale' to avoid this warning.\n",
      "  \"avoid this warning.\", FutureWarning)\n",
      "/home/warfield/.local/lib/python3.7/site-packages/sklearn/svm/base.py:196: FutureWarning: The default value of gamma will change from 'auto' to 'scale' in version 0.22 to account better for unscaled features. Set gamma explicitly to 'auto' or 'scale' to avoid this warning.\n",
      "  \"avoid this warning.\", FutureWarning)\n",
      "/home/warfield/.local/lib/python3.7/site-packages/sklearn/svm/base.py:196: FutureWarning: The default value of gamma will change from 'auto' to 'scale' in version 0.22 to account better for unscaled features. Set gamma explicitly to 'auto' or 'scale' to avoid this warning.\n",
      "  \"avoid this warning.\", FutureWarning)\n",
      "/home/warfield/.local/lib/python3.7/site-packages/sklearn/svm/base.py:196: FutureWarning: The default value of gamma will change from 'auto' to 'scale' in version 0.22 to account better for unscaled features. Set gamma explicitly to 'auto' or 'scale' to avoid this warning.\n",
      "  \"avoid this warning.\", FutureWarning)\n"
     ]
    },
    {
     "name": "stdout",
     "output_type": "stream",
     "text": [
      "model score: 0.6126126126126126\n",
      "Cross Validation f1_score: 0.42138647276780505\n",
      "Confusion Matrix\n",
      "[[108  23]\n",
      " [ 63  28]]\n",
      "\n",
      "Classification Report\n",
      "              precision    recall  f1-score   support\n",
      "\n",
      "           0       0.63      0.82      0.72       131\n",
      "           1       0.55      0.31      0.39        91\n",
      "\n",
      "   micro avg       0.61      0.61      0.61       222\n",
      "   macro avg       0.59      0.57      0.55       222\n",
      "weighted avg       0.60      0.61      0.58       222\n",
      "\n"
     ]
    }
   ],
   "source": [
    "from sklearn.svm import SVC\n",
    "from sklearn.model_selection import cross_val_score\n",
    "\n",
    "#create a model object\n",
    "model = SVC()\n",
    "\n",
    "#train our model\n",
    "model.fit(train[[\"Pclass\", \"Age\", \"Pclass\", \"Fare\"]], train[\"Survived\"])\n",
    "\n",
    "#evaluate the model \n",
    "yhat = model.predict(train[[\"Pclass\", \"Age\", \"Pclass\", \"Fare\"]])\n",
    "score = model.score(test[[\"Pclass\", \"Age\", \"Pclass\", \"Fare\"]], test['Survived'])\n",
    "print(f\"model score: {score}\")\n",
    "\n",
    "#setup to get f-score and cv\n",
    "scorerVar = make_scorer(f1_score, pos_label=1)\n",
    "scores = cross_val_score(model, boat[[\"Pclass\", \"Age\", \"Pclass\", \"Fare\"]], boat[\"Survived\"],cv = 5, scoring = scorerVar)\n",
    "print(f\"Cross Validation f1_score: {scores.mean()}\")\n",
    "\n",
    "#confusion matrix\n",
    "print(\"Confusion Matrix\")\n",
    "print(confusion_matrix(test['Survived'], model.predict(test[[\"Pclass\", \"Age\", \"Pclass\", \"Fare\"]])))\n",
    "\n",
    "#classification report\n",
    "print(\"\\nClassification Report\")\n",
    "print(classification_report(test['Survived'], model.predict(test[[\"Pclass\", \"Age\", \"Pclass\", \"Fare\"]])))"
   ]
  },
  {
   "cell_type": "markdown",
   "metadata": {},
   "source": [
    "### Problem 7: Comparision and Discussion (5 points)\n",
    "Edit this cell to provide a brief discussion (3-5 sentances at most):\n",
    "1. What was the model/algorithm that performed best for you?\n",
    "\n",
    "Logistic Regression performed the best\n",
    "\n",
    "2. What feaures and parameters were used to achieve that performance?\n",
    "\n",
    "Tweaking SVM to use a linear kernal also worked just as well as Logistical Regression\n",
    "\n",
    "3. What insights did you gain from your experimentation about the predictive power of this dataset and did it match your original hypothesis about the relationship between given feature data and the target?\n",
    "\n",
    "Age really did not effect survival rates. I was really surpised by this!"
   ]
  },
  {
   "cell_type": "markdown",
   "metadata": {},
   "source": [
    "### Questionnaire\n",
    "1) How long did you spend on this assignment?\n",
    "<br>~2hrs<br>\n",
    "2) What did you like about it? What did you not like about it?\n",
    "<br>The breadth of classification measures<br>\n",
    "3) Did you find any errors or is there anything you would like changed?\n",
    "<br>Nope<br>"
   ]
  },
  {
   "cell_type": "code",
   "execution_count": null,
   "metadata": {},
   "outputs": [],
   "source": []
  }
 ],
 "metadata": {
  "kernelspec": {
   "display_name": "Python 3",
   "language": "python",
   "name": "python3"
  },
  "language_info": {
   "codemirror_mode": {
    "name": "ipython",
    "version": 3
   },
   "file_extension": ".py",
   "mimetype": "text/x-python",
   "name": "python",
   "nbconvert_exporter": "python",
   "pygments_lexer": "ipython3",
   "version": "3.7.3"
  }
 },
 "nbformat": 4,
 "nbformat_minor": 2
}
